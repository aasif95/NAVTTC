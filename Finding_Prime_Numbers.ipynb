{
  "nbformat": 4,
  "nbformat_minor": 0,
  "metadata": {
    "colab": {
      "name": "Finding Prime Numbers.ipynb",
      "provenance": [],
      "authorship_tag": "ABX9TyOvHakWG/3cgyE2xtyFJLVk",
      "include_colab_link": true
    },
    "kernelspec": {
      "name": "python3",
      "display_name": "Python 3"
    },
    "language_info": {
      "name": "python"
    }
  },
  "cells": [
    {
      "cell_type": "markdown",
      "metadata": {
        "id": "view-in-github",
        "colab_type": "text"
      },
      "source": [
        "<a href=\"https://colab.research.google.com/github/aasif95/NAVTTC/blob/main/Finding_Prime_Numbers.ipynb\" target=\"_parent\"><img src=\"https://colab.research.google.com/assets/colab-badge.svg\" alt=\"Open In Colab\"/></a>"
      ]
    },
    {
      "cell_type": "code",
      "metadata": {
        "id": "cZ_CDQi6xKgj"
      },
      "source": [
        "num = int(input(\"Enter any number= \"))\n",
        "\n",
        "if num > 1:\n",
        "    for i in range(2, num):\n",
        "        if (num % i) == 0:\n",
        "            print(num, \"is not a prime number\")\n",
        "            break\n",
        "    else:\n",
        "        print(num, \"is a prime number\")\n",
        "\n",
        "else:\n",
        "    print(num, \"is not a prime number\")"
      ],
      "execution_count": null,
      "outputs": []
    }
  ]
}