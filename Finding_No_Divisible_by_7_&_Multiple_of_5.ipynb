{
  "nbformat": 4,
  "nbformat_minor": 0,
  "metadata": {
    "colab": {
      "name": "Finding No Divisible by 7 & Multiple of 5.ipynb",
      "provenance": [],
      "authorship_tag": "ABX9TyNZSxXc1l+V7hAy8EVNxZGY",
      "include_colab_link": true
    },
    "kernelspec": {
      "name": "python3",
      "display_name": "Python 3"
    },
    "language_info": {
      "name": "python"
    }
  },
  "cells": [
    {
      "cell_type": "markdown",
      "metadata": {
        "id": "view-in-github",
        "colab_type": "text"
      },
      "source": [
        "<a href=\"https://colab.research.google.com/github/aasif95/NAVTTC/blob/main/Finding_No_Divisible_by_7_%26_Multiple_of_5.ipynb\" target=\"_parent\"><img src=\"https://colab.research.google.com/assets/colab-badge.svg\" alt=\"Open In Colab\"/></a>"
      ]
    },
    {
      "cell_type": "code",
      "metadata": {
        "colab": {
          "base_uri": "https://localhost:8080/"
        },
        "id": "1CrnFzN-0Vb2",
        "outputId": "b687a80b-22e8-4816-b084-bd86672aa831"
      },
      "source": [
        "for i in range(1500,2701):\n",
        "\n",
        "    if (i%7==0) and (i%5==0):\n",
        "\n",
        "        print(\"  \",i)"
      ],
      "execution_count": 3,
      "outputs": [
        {
          "output_type": "stream",
          "text": [
            "   1505\n",
            "   1540\n",
            "   1575\n",
            "   1610\n",
            "   1645\n",
            "   1680\n",
            "   1715\n",
            "   1750\n",
            "   1785\n",
            "   1820\n",
            "   1855\n",
            "   1890\n",
            "   1925\n",
            "   1960\n",
            "   1995\n",
            "   2030\n",
            "   2065\n",
            "   2100\n",
            "   2135\n",
            "   2170\n",
            "   2205\n",
            "   2240\n",
            "   2275\n",
            "   2310\n",
            "   2345\n",
            "   2380\n",
            "   2415\n",
            "   2450\n",
            "   2485\n",
            "   2520\n",
            "   2555\n",
            "   2590\n",
            "   2625\n",
            "   2660\n",
            "   2695\n"
          ],
          "name": "stdout"
        }
      ]
    }
  ]
}